{
 "cells": [
  {
   "cell_type": "markdown",
   "id": "37d64add-c54c-4191-aeb1-f2c7ab859327",
   "metadata": {},
   "source": [
    "# My Jupyter Notebook on IBM Watson Studio\n"
   ]
  },
  {
   "cell_type": "markdown",
   "id": "1ab4ec8e-9f4f-4ce8-b1ed-1bd9c3b0a895",
   "metadata": {},
   "source": [
    "**Aravind** \n",
    "\n",
    "My desired job is Data Science Engineer."
   ]
  },
  {
   "cell_type": "markdown",
   "id": "f74eaef6-88e3-4018-8dbf-38b50203a13b",
   "metadata": {},
   "source": [
    "*I find data science interesting and really fascinating, maybe because of it's power and usefulness in different kinds of jobs and fields. I want to learn more in data science.\n",
    " Handling data and finding new things with existing data is really interesting and that kind of an exciting job attracts me.*"
   ]
  },
  {
   "cell_type": "code",
   "execution_count": 7,
   "id": "bd32b333-f026-4026-a4ac-160bdeb81cc3",
   "metadata": {},
   "outputs": [
    {
     "name": "stdout",
     "output_type": "stream",
     "text": [
      "Hello\n"
     ]
    }
   ],
   "source": [
    "print(\"Hello\")"
   ]
  },
  {
   "cell_type": "markdown",
   "id": "5eb5678b-6676-4be5-af17-abbad4ac9e60",
   "metadata": {},
   "source": [
    "This is a Bulleted List:\n",
    "\n",
    "* Bulleted One\n",
    "* Bulleted Two \n",
    "* Bulleted Three\n",
    "\n",
    "This is a StrikeThrough:\n",
    "\n",
    "~This is a StrikeThrough sentence~\n",
    "\n",
    "This is a Hyperlink:\n",
    "\n",
    "<a href=\"https://www.coursera.org/professional-certificates/ibm-data-science\">IBM Data Science Professional Certificate</a>\n",
    "\n",
    "This is a table:\n",
    "\n",
    "| Heading1 | Heading2 | Heading3 ||\n",
    "| ------ | ------| ------ | ------ |\n",
    "| Data1 | Data2 | Data3 | NoData"
   ]
  }
 ],
 "metadata": {
  "kernelspec": {
   "display_name": "Python",
   "language": "python",
   "name": "conda-env-python-py"
  },
  "language_info": {
   "codemirror_mode": {
    "name": "ipython",
    "version": 3
   },
   "file_extension": ".py",
   "mimetype": "text/x-python",
   "name": "python",
   "nbconvert_exporter": "python",
   "pygments_lexer": "ipython3",
   "version": "3.7.12"
  }
 },
 "nbformat": 4,
 "nbformat_minor": 5
}
